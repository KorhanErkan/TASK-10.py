{
  "nbformat": 4,
  "nbformat_minor": 0,
  "metadata": {
    "colab": {
      "provenance": [],
      "authorship_tag": "ABX9TyMvCqObrqbZ/50XeAMlH71+",
      "include_colab_link": true
    },
    "kernelspec": {
      "name": "python3",
      "display_name": "Python 3"
    },
    "language_info": {
      "name": "python"
    },
    "accelerator": "GPU",
    "gpuClass": "standard"
  },
  "cells": [
    {
      "cell_type": "markdown",
      "metadata": {
        "id": "view-in-github",
        "colab_type": "text"
      },
      "source": [
        "<a href=\"https://colab.research.google.com/github/KorhanErkan/main.py/blob/master/TASK_10.ipynb\" target=\"_parent\"><img src=\"https://colab.research.google.com/assets/colab-badge.svg\" alt=\"Open In Colab\"/></a>"
      ]
    },
    {
      "cell_type": "markdown",
      "source": [
        "TASK-10A: Please model the AD dataset using the SVM, Decision Tree, and Random Forest algorithms.\n",
        "\n",
        "Please apply train test split (%75-%25)\n",
        "Then grid search (hyperparameter tuning)\n",
        "Then classification report and confusion matrix (on the test dataset)\n",
        "Then compare the findings from the three algorithms\n",
        "\n",
        "https://clearpredictions.com/Home/DecisionTree\n"
      ],
      "metadata": {
        "id": "cFMS53piESTm"
      }
    },
    {
      "cell_type": "code",
      "source": [
        "import numpy as np\n",
        "from sklearn.model_selection import train_test_split\n",
        "import pandas as pd\n",
        "data = pd.read_excel(\"AD.xlsx\", index_col=0)"
      ],
      "metadata": {
        "id": "_t9_K_TP45gg"
      },
      "execution_count": 1,
      "outputs": []
    },
    {
      "cell_type": "code",
      "source": [
        "y = data[\"CDRGLOB\"]\n",
        "data.drop(columns = [\"CDRGLOB\"], axis = 1, inplace = True)"
      ],
      "metadata": {
        "id": "PZ03xb7g5K4C"
      },
      "execution_count": 2,
      "outputs": []
    },
    {
      "cell_type": "code",
      "source": [
        "X_train, X_test, y_train, y_test = train_test_split(data, y, test_size=0.25, random_state=42)"
      ],
      "metadata": {
        "id": "ZNw87l_15dPO"
      },
      "execution_count": 3,
      "outputs": []
    },
    {
      "cell_type": "code",
      "source": [
        "from sklearn.svm import SVC\n",
        "from sklearn.metrics import classification_report, confusion_matrix\n",
        "from sklearn.model_selection import GridSearchCV"
      ],
      "metadata": {
        "id": "EfQ-mkBN6V99"
      },
      "execution_count": 4,
      "outputs": []
    },
    {
      "cell_type": "code",
      "source": [
        "import warnings\n",
        "warnings.filterwarnings(\"ignore\")"
      ],
      "metadata": {
        "id": "l3ok6wyv6wKi"
      },
      "execution_count": 5,
      "outputs": []
    },
    {
      "cell_type": "code",
      "source": [
        "param_grid = {'C': [0.1, 1, 10, 100],\n",
        "              'gamma': [1, 0.1, 0.01, 0.001],\n",
        "              'kernel': [\"rbf\"]}\n",
        "\n",
        "grid = GridSearchCV(SVC(), param_grid, refit=True)\n",
        "grid.fit(X_train, y_train)\n",
        "grid.best_params_\n",
        "\n",
        "\n",
        "grid_pred = grid.predict(X_test)\n",
        "print(confusion_matrix(y_test, grid_pred))\n",
        "print(classification_report(y_test, grid_pred))"
      ],
      "metadata": {
        "colab": {
          "base_uri": "https://localhost:8080/"
        },
        "id": "vTxYFpFS6UN0",
        "outputId": "33b29f5b-8177-4cb8-fc00-ce6ad8245922"
      },
      "execution_count": 6,
      "outputs": [
        {
          "output_type": "stream",
          "name": "stdout",
          "text": [
            "[[133  50   1   0]\n",
            " [ 72  36   0   0]\n",
            " [ 28  11   0   0]\n",
            " [  7   1   0   0]]\n",
            "              precision    recall  f1-score   support\n",
            "\n",
            "           0       0.55      0.72      0.63       184\n",
            "           1       0.37      0.33      0.35       108\n",
            "           2       0.00      0.00      0.00        39\n",
            "           3       0.00      0.00      0.00         8\n",
            "\n",
            "    accuracy                           0.50       339\n",
            "   macro avg       0.23      0.26      0.24       339\n",
            "weighted avg       0.42      0.50      0.45       339\n",
            "\n"
          ]
        }
      ]
    },
    {
      "cell_type": "code",
      "source": [
        "from sklearn.tree import DecisionTreeClassifier"
      ],
      "metadata": {
        "id": "U9KIgxxe7MO4"
      },
      "execution_count": 7,
      "outputs": []
    },
    {
      "cell_type": "code",
      "source": [
        "params_grid =  {\n",
        "    'min_samples_leaf': [1, 2, 3],\n",
        "    'max_depth': [1, 2, 3],\n",
        "    \"min_samples_split\":[1,2,3],\n",
        "    \"max_features\": [\"auto\", \"sqrt\", \"log2\"]\n",
        "}\n",
        "\n",
        "grid = GridSearchCV(DecisionTreeClassifier(), params_grid, refit=True)\n",
        "grid.fit(X_train, y_train)\n",
        "\n",
        "grid.best_params_\n",
        "grid_pred = grid.predict(X_test)\n",
        "print(confusion_matrix(y_test, grid_pred))\n",
        "print(classification_report(y_test, grid_pred))"
      ],
      "metadata": {
        "colab": {
          "base_uri": "https://localhost:8080/"
        },
        "id": "j3QUSC9H6k5y",
        "outputId": "63e79a83-ccf5-46b0-cf3f-72e65cb6eb0a"
      },
      "execution_count": 8,
      "outputs": [
        {
          "output_type": "stream",
          "name": "stdout",
          "text": [
            "[[142  42   0   0]\n",
            " [ 48  53   5   2]\n",
            " [ 14  22   0   3]\n",
            " [  2   3   0   3]]\n",
            "              precision    recall  f1-score   support\n",
            "\n",
            "           0       0.69      0.77      0.73       184\n",
            "           1       0.44      0.49      0.46       108\n",
            "           2       0.00      0.00      0.00        39\n",
            "           3       0.38      0.38      0.38         8\n",
            "\n",
            "    accuracy                           0.58       339\n",
            "   macro avg       0.38      0.41      0.39       339\n",
            "weighted avg       0.52      0.58      0.55       339\n",
            "\n"
          ]
        }
      ]
    },
    {
      "cell_type": "code",
      "source": [
        "from sklearn.ensemble import RandomForestClassifier"
      ],
      "metadata": {
        "id": "D_Z8q7qh7tCS"
      },
      "execution_count": 9,
      "outputs": []
    },
    {
      "cell_type": "code",
      "source": [
        "param_grid = [{\n",
        "    'min_samples_split':[2, 3, 4],\n",
        "    'min_samples_leaf':[2, 3, 4],\n",
        "    \"max_depth\": [10, 20, 30],\n",
        "    'max_features': ['auto'],\n",
        "}]\n",
        "\n",
        "grid = GridSearchCV(RandomForestClassifier(), param_grid, refit=True)\n",
        "grid.fit(X_train, y_train)\n",
        "grid.best_params_\n",
        "grid_pred = grid.predict(X_test)\n",
        "print(confusion_matrix(y_test, grid_pred))\n",
        "print(classification_report(y_test, grid_pred))"
      ],
      "metadata": {
        "colab": {
          "base_uri": "https://localhost:8080/"
        },
        "id": "IVO5R2ie7cri",
        "outputId": "b1c58da8-2171-4495-f9d7-47e9bc4270fa"
      },
      "execution_count": 11,
      "outputs": [
        {
          "output_type": "stream",
          "name": "stdout",
          "text": [
            "[[154  30   0   0]\n",
            " [ 28  78   2   0]\n",
            " [  1  32   6   0]\n",
            " [  0   3   4   1]]\n",
            "              precision    recall  f1-score   support\n",
            "\n",
            "           0       0.84      0.84      0.84       184\n",
            "           1       0.55      0.72      0.62       108\n",
            "           2       0.50      0.15      0.24        39\n",
            "           3       1.00      0.12      0.22         8\n",
            "\n",
            "    accuracy                           0.71       339\n",
            "   macro avg       0.72      0.46      0.48       339\n",
            "weighted avg       0.71      0.71      0.69       339\n",
            "\n"
          ]
        }
      ]
    }
  ]
}